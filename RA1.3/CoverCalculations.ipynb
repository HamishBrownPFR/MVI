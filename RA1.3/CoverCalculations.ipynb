{
 "cells": [
  {
   "cell_type": "code",
   "execution_count": 1,
   "metadata": {},
   "outputs": [],
   "source": [
    "import datetime as dt\n",
    "import pandas as pd\n",
    "import numpy as np\n",
    "import matplotlib.pyplot as plt\n",
    "%matplotlib inline\n",
    "import datetime\n",
    "import os"
   ]
  },
  {
   "cell_type": "markdown",
   "metadata": {},
   "source": [
    "## Get temp data, from rainshelter"
   ]
  },
  {
   "cell_type": "code",
   "execution_count": 2,
   "metadata": {},
   "outputs": [],
   "source": [
    "AllData=pd.read_csv('K:\\Rainshelter\\Oats 2017-2018\\LoggedData\\RainShelterBeta_Energy.dat', #specify file path for data to read in\n",
    "                         parse_dates=True, #tell the function to parse date columns to datetime formats\n",
    "                         dayfirst=True, #tell the function that the day is before the year in the data i.e format='%d/%m/%Y %H:%M'\n",
    "                         skiprows = [0,2,3], #leave out rows 1, 3 and 4 which have redundant information\n",
    "                         index_col = 0, #Use the first column, which is Date, as an index\n",
    "                         na_values = 'NAN')\n",
    "TempData = AllData.loc['2017-10-04':,'AirTC_Avg'].resample('D').mean().cumsum()"
   ]
  },
  {
   "cell_type": "markdown",
   "metadata": {},
   "source": [
    "## Get Layout file"
   ]
  },
  {
   "cell_type": "code",
   "execution_count": 3,
   "metadata": {},
   "outputs": [],
   "source": [
    "Layout = pd.read_excel('K:\\CPDiary\\Data\\BaxtersMVI\\TrialLayout.xlsx',index_col='Plot')\n",
    "NDVIPlotMaping = pd.read_excel('K:\\CPDiary\\Data\\BaxtersMVI\\TrialLayout.xlsx',index_col='NDVISample#')"
   ]
  },
  {
   "cell_type": "markdown",
   "metadata": {},
   "source": [
    "## Get NDVI raw data"
   ]
  },
  {
   "cell_type": "code",
   "execution_count": 4,
   "metadata": {},
   "outputs": [],
   "source": [
    "GSFiles = []\n",
    "mydir = 'K:\\CPDiary\\Data\\BaxtersMVI\\Greenseeker data\\GS data files'\n",
    "for File in os.listdir(mydir):\n",
    "    if File.endswith('.txt'):\n",
    "        if ('Avg' not in File) & ('Diag' not in File) :\n",
    "            GSFiles.append(os.path.join(mydir, File))"
   ]
  },
  {
   "cell_type": "code",
   "execution_count": 5,
   "metadata": {},
   "outputs": [
    {
     "data": {
      "text/plain": [
       "['K:\\\\CPDiary\\\\Data\\\\BaxtersMVI\\\\Greenseeker data\\\\GS data files\\\\01-04-2018_BaxtersMVI.txt',\n",
       " 'K:\\\\CPDiary\\\\Data\\\\BaxtersMVI\\\\Greenseeker data\\\\GS data files\\\\01-08-2018_BaxtersMVI.txt',\n",
       " 'K:\\\\CPDiary\\\\Data\\\\BaxtersMVI\\\\Greenseeker data\\\\GS data files\\\\10-12-2017_BaxtersMVI.txt',\n",
       " 'K:\\\\CPDiary\\\\Data\\\\BaxtersMVI\\\\Greenseeker data\\\\GS data files\\\\10-17-2017_BaxtersMVI.txt',\n",
       " 'K:\\\\CPDiary\\\\Data\\\\BaxtersMVI\\\\Greenseeker data\\\\GS data files\\\\10-24-2017_BaxtersMVI.txt',\n",
       " 'K:\\\\CPDiary\\\\Data\\\\BaxtersMVI\\\\Greenseeker data\\\\GS data files\\\\10-31-2017_BaxtersMVI.txt',\n",
       " 'K:\\\\CPDiary\\\\Data\\\\BaxtersMVI\\\\Greenseeker data\\\\GS data files\\\\11-07-2017_BaxtersMVI.txt',\n",
       " 'K:\\\\CPDiary\\\\Data\\\\BaxtersMVI\\\\Greenseeker data\\\\GS data files\\\\11-14-2017_BaxtersMVI.txt',\n",
       " 'K:\\\\CPDiary\\\\Data\\\\BaxtersMVI\\\\Greenseeker data\\\\GS data files\\\\11-20-2017_BaxtersMVI.txt',\n",
       " 'K:\\\\CPDiary\\\\Data\\\\BaxtersMVI\\\\Greenseeker data\\\\GS data files\\\\11-28-2017_BaxtersMVI.txt',\n",
       " 'K:\\\\CPDiary\\\\Data\\\\BaxtersMVI\\\\Greenseeker data\\\\GS data files\\\\12-04-2017_BaxtersMVI.txt',\n",
       " 'K:\\\\CPDiary\\\\Data\\\\BaxtersMVI\\\\Greenseeker data\\\\GS data files\\\\12-13-2017_BaxtersMVI.txt',\n",
       " 'K:\\\\CPDiary\\\\Data\\\\BaxtersMVI\\\\Greenseeker data\\\\GS data files\\\\12-19-2017 BaxtersMVI.txt',\n",
       " 'K:\\\\CPDiary\\\\Data\\\\BaxtersMVI\\\\Greenseeker data\\\\GS data files\\\\12-28-2017_BaxtersMVI.txt']"
      ]
     },
     "execution_count": 5,
     "metadata": {},
     "output_type": "execute_result"
    }
   ],
   "source": [
    "GSFiles"
   ]
  },
  {
   "cell_type": "markdown",
   "metadata": {},
   "source": [
    "## Apply experiment design index to NDVI data"
   ]
  },
  {
   "cell_type": "code",
   "execution_count": 6,
   "metadata": {},
   "outputs": [],
   "source": [
    "#Set up blank dataframe to take data\n",
    "ColumnLables = ['Time(ms)','SampleNumber','Count','NDVI','VI_2','REDrefc','NIRrefc','Plot','Zone','Rep','Irrig','Date']\n",
    "TabIndex = pd.MultiIndex.from_arrays([[],[],[],[]],names=['Date','Zone','Irrig','Rep'])\n",
    "NDVIData = pd.DataFrame(columns=ColumnLables[2:],index = TabIndex)\n",
    "ObsDates = []\n",
    "#Read each file\n",
    "for ObsTable in GSFiles:\n",
    "    #Read in file and find which lines have legit data\n",
    "    DateString = ObsTable.strip('.txt').strip('K:\\\\CPDiary\\\\Data\\\\BaxtersMVI\\\\Greenseeker data\\\\GS data files\\\\').strip('BaxtersMVI').strip('_')\n",
    "    ObsDate = pd.to_datetime(DateString,format = '%m-%d-%Y')\n",
    "    ObsDates.append(ObsDate)\n",
    "    DataTab = pd.read_csv(ObsTable,skiprows = [0],header=None)\n",
    "    DataTab.columns = ColumnLables[0:7]\n",
    "    DataTab.dropna(inplace=True)\n",
    "    DataTab.drop('Time(ms)',axis=1,inplace=True)\n",
    "    DataTab.loc[:,'Plot'] = [NDVIPlotMaping.loc[DataTab.loc[x,'SampleNumber'],'Plot'] for x in DataTab.index]\n",
    "    DataTab.loc[:,'Zone'] = [Layout.loc[DataTab.loc[x,'Plot'],'Zone'] for x in DataTab.index]\n",
    "    DataTab.loc[:,'Rep'] = [Layout.loc[DataTab.loc[x,'Plot'],'Rep'] for x in DataTab.index]\n",
    "    DataTab.loc[:,'Irrig'] = [Layout.loc[DataTab.loc[x,'Plot'],'Irrig'] for x in DataTab.index]\n",
    "    DataTab.loc[:,'Date'] = ObsDate\n",
    "    DataTab.set_index(['Date','Zone','Irrig','Rep'],inplace=True,drop=False)\n",
    "    NDVIData = NDVIData.append(DataTab)\n",
    "NDVIData.sort_index(inplace=True)\n",
    "ObsDates.sort()"
   ]
  },
  {
   "cell_type": "markdown",
   "metadata": {},
   "source": [
    "## Estimate fPAR from NDVI using the scaling method"
   ]
  },
  {
   "cell_type": "code",
   "execution_count": 7,
   "metadata": {},
   "outputs": [
    {
     "name": "stderr",
     "output_type": "stream",
     "text": [
      "C:\\Anaconda\\lib\\site-packages\\IPython\\core\\interactiveshell.py:2854: PerformanceWarning: indexing past lexsort depth may impact performance.\n",
      "  raw_cell, store_history, silent, shell_futures)\n"
     ]
    }
   ],
   "source": [
    "NDVIMeans = NDVIData.groupby(level = ['Date','Zone','Irrig','Rep']).mean()\n",
    "CropNDVI  = NDVIMeans.loc[~NDVIMeans.index.isin(['Bare'],level=2),'NDVI']\n",
    "BareNDVI = NDVIMeans.loc[NDVIMeans.index.isin(['Bare'],level=2),'NDVI']\n",
    "fPARndvi = pd.DataFrame(index = CropNDVI.index, columns=['est'])\n",
    "for Date in ObsDates:\n",
    "    BareVal = 0.15\n",
    "    if BareNDVI[Date].values != np.nan:\n",
    "        BareVal = BareNDVI[Date].values\n",
    "    fPARndvi.loc[Date,'est'] = np.subtract(CropNDVI.loc[Date].values, BareVal)/np.subtract(0.95,BareVal)\n",
    "fPARndvi.loc[:,'est'] = pd.to_numeric(fPARndvi.loc[:,'est']) \n",
    "fPARndvi.index  =fPARndvi.index.swaplevel('Date','Zone',)\n",
    "fPARndvi.index  =fPARndvi.index.swaplevel('Date','Irrig',)\n",
    "fPARndvi.index  =fPARndvi.index.swaplevel('Date','Rep',)\n",
    "fPARndvi.loc[:,'AccumTemp'] = [TempData.loc[x] for x in fPARndvi.index.get_level_values(3)]\n",
    "fPARTreatMeans = fPARndvi.groupby(level = ['Zone','Irrig','Date']).mean()\n",
    "#fPARTreatMeans.loc[:,'AccumTemp'] = [TempData.loc[x[2]] for x in fPARTreatMeans.index]"
   ]
  },
  {
   "cell_type": "markdown",
   "metadata": {},
   "source": [
    "## Interpolate estimated fPAR out to daily values"
   ]
  },
  {
   "cell_type": "code",
   "execution_count": 8,
   "metadata": {},
   "outputs": [],
   "source": [
    "Start = ObsDates[0]\n",
    "Today = ObsDates[-1]\n",
    "DailyDates = pd.date_range(Start,Today)\n",
    "TreatIndex = fPARndvi.groupby(level=['Zone','Irrig']).mean().index\n",
    "DailyfPARMeans = pd.DataFrame(index = DailyDates, columns = TreatIndex)\n",
    "for Treat in DailyfPARMeans.columns:\n",
    "    DailyfPARMeans.loc[:,Treat] = np.interp(TempData.loc[Start:Today],fPARTreatMeans.loc[Treat,'AccumTemp'],fPARTreatMeans.loc[Treat,'est'])"
   ]
  },
  {
   "cell_type": "code",
   "execution_count": 9,
   "metadata": {},
   "outputs": [
    {
     "name": "stderr",
     "output_type": "stream",
     "text": [
      "C:\\Anaconda\\lib\\site-packages\\pandas\\core\\indexing.py:1762: PerformanceWarning: indexing past lexsort depth may impact performance.\n",
      "  return self._getitem_tuple(key)\n"
     ]
    }
   ],
   "source": [
    "Start = ObsDates[0]\n",
    "Today = ObsDates[-1]\n",
    "DailyDates = pd.date_range(Start,Today)\n",
    "TreatIndex = fPARndvi.groupby(level=['Zone','Irrig','Rep']).mean().index\n",
    "DailyfPAR = pd.DataFrame(index = DailyDates, columns =TreatIndex)\n",
    "for plot in DailyfPAR.columns:\n",
    "    DailyfPAR.loc[:,plot] = np.interp(TempData.loc[Start:Today],fPARndvi.loc[plot,'AccumTemp'],fPARndvi.loc[plot,'est'])"
   ]
  },
  {
   "cell_type": "markdown",
   "metadata": {},
   "source": [
    "## Make a graph to ensure all looks good"
   ]
  },
  {
   "cell_type": "code",
   "execution_count": 11,
   "metadata": {},
   "outputs": [
    {
     "name": "stderr",
     "output_type": "stream",
     "text": [
      "C:\\Anaconda\\lib\\site-packages\\pandas\\core\\indexing.py:1762: PerformanceWarning: indexing past lexsort depth may impact performance.\n",
      "  return self._getitem_tuple(key)\n",
      "C:\\Anaconda\\lib\\site-packages\\pandas\\core\\indexing.py:1762: PerformanceWarning: indexing past lexsort depth may impact performance.\n",
      "  return self._getitem_tuple(key)\n",
      "C:\\Anaconda\\lib\\site-packages\\pandas\\core\\indexing.py:1762: PerformanceWarning: indexing past lexsort depth may impact performance.\n",
      "  return self._getitem_tuple(key)\n",
      "C:\\Anaconda\\lib\\site-packages\\pandas\\core\\indexing.py:1762: PerformanceWarning: indexing past lexsort depth may impact performance.\n",
      "  return self._getitem_tuple(key)\n",
      "C:\\Anaconda\\lib\\site-packages\\pandas\\core\\indexing.py:1762: PerformanceWarning: indexing past lexsort depth may impact performance.\n",
      "  return self._getitem_tuple(key)\n",
      "C:\\Anaconda\\lib\\site-packages\\pandas\\core\\indexing.py:1762: PerformanceWarning: indexing past lexsort depth may impact performance.\n",
      "  return self._getitem_tuple(key)\n",
      "C:\\Anaconda\\lib\\site-packages\\pandas\\core\\indexing.py:1762: PerformanceWarning: indexing past lexsort depth may impact performance.\n",
      "  return self._getitem_tuple(key)\n",
      "C:\\Anaconda\\lib\\site-packages\\pandas\\core\\indexing.py:1762: PerformanceWarning: indexing past lexsort depth may impact performance.\n",
      "  return self._getitem_tuple(key)\n",
      "C:\\Anaconda\\lib\\site-packages\\pandas\\core\\indexing.py:1762: PerformanceWarning: indexing past lexsort depth may impact performance.\n",
      "  return self._getitem_tuple(key)\n",
      "C:\\Anaconda\\lib\\site-packages\\pandas\\core\\indexing.py:1762: PerformanceWarning: indexing past lexsort depth may impact performance.\n",
      "  return self._getitem_tuple(key)\n",
      "C:\\Anaconda\\lib\\site-packages\\pandas\\core\\indexing.py:1762: PerformanceWarning: indexing past lexsort depth may impact performance.\n",
      "  return self._getitem_tuple(key)\n",
      "C:\\Anaconda\\lib\\site-packages\\pandas\\core\\indexing.py:1762: PerformanceWarning: indexing past lexsort depth may impact performance.\n",
      "  return self._getitem_tuple(key)\n",
      "C:\\Anaconda\\lib\\site-packages\\pandas\\core\\indexing.py:1762: PerformanceWarning: indexing past lexsort depth may impact performance.\n",
      "  return self._getitem_tuple(key)\n",
      "C:\\Anaconda\\lib\\site-packages\\pandas\\core\\indexing.py:1762: PerformanceWarning: indexing past lexsort depth may impact performance.\n",
      "  return self._getitem_tuple(key)\n",
      "C:\\Anaconda\\lib\\site-packages\\pandas\\core\\indexing.py:1762: PerformanceWarning: indexing past lexsort depth may impact performance.\n",
      "  return self._getitem_tuple(key)\n",
      "C:\\Anaconda\\lib\\site-packages\\pandas\\core\\indexing.py:1762: PerformanceWarning: indexing past lexsort depth may impact performance.\n",
      "  return self._getitem_tuple(key)\n",
      "C:\\Anaconda\\lib\\site-packages\\pandas\\core\\indexing.py:1762: PerformanceWarning: indexing past lexsort depth may impact performance.\n",
      "  return self._getitem_tuple(key)\n",
      "C:\\Anaconda\\lib\\site-packages\\pandas\\core\\indexing.py:1762: PerformanceWarning: indexing past lexsort depth may impact performance.\n",
      "  return self._getitem_tuple(key)\n",
      "C:\\Anaconda\\lib\\site-packages\\pandas\\core\\indexing.py:1762: PerformanceWarning: indexing past lexsort depth may impact performance.\n",
      "  return self._getitem_tuple(key)\n",
      "C:\\Anaconda\\lib\\site-packages\\pandas\\core\\indexing.py:1762: PerformanceWarning: indexing past lexsort depth may impact performance.\n",
      "  return self._getitem_tuple(key)\n",
      "C:\\Anaconda\\lib\\site-packages\\pandas\\core\\indexing.py:1762: PerformanceWarning: indexing past lexsort depth may impact performance.\n",
      "  return self._getitem_tuple(key)\n",
      "C:\\Anaconda\\lib\\site-packages\\pandas\\core\\indexing.py:1762: PerformanceWarning: indexing past lexsort depth may impact performance.\n",
      "  return self._getitem_tuple(key)\n",
      "C:\\Anaconda\\lib\\site-packages\\pandas\\core\\indexing.py:1762: PerformanceWarning: indexing past lexsort depth may impact performance.\n",
      "  return self._getitem_tuple(key)\n",
      "C:\\Anaconda\\lib\\site-packages\\pandas\\core\\indexing.py:1762: PerformanceWarning: indexing past lexsort depth may impact performance.\n",
      "  return self._getitem_tuple(key)\n",
      "The PostScript backend does not support transparency; partially transparent artists will be rendered opaque.\n",
      "The PostScript backend does not support transparency; partially transparent artists will be rendered opaque.\n"
     ]
    },
    {
     "data": {
      "image/png": "[encoded data removed]",
      "text/plain": [
       "<Figure size 432x432 with 1 Axes>"
      ]
     },
     "metadata": {
      "needs_background": "light"
     },
     "output_type": "display_data"
    }
   ],
   "source": [
    "NDVIGraph = plt.figure(figsize=(6,6))\n",
    "Irrigs = ['STD', 'VRI',]\n",
    "IrrLabs = ['URI', 'VRI','URI', 'VRI','URI', 'VRI']\n",
    "fills = ['b','w','g','w','r','w']\n",
    "lines = ['-','--','-','--','-','--']\n",
    "Zones = ['High', 'Mid', 'Low']\n",
    "edges = ['b','b','g','g','r','r']\n",
    "Reps = [1.0, 2.0, 3.0, 4.0]\n",
    "pos = -1\n",
    "for Zone in Zones:\n",
    "    for Irrig in Irrigs:\n",
    "        pos+=1\n",
    "        for Rep in Reps:\n",
    "            Plot = fPARndvi.loc[(Zone,Irrig,Rep),:]\n",
    "            plt.plot(Plot.index,Plot.est,'o',mec=edges[pos],mfc=fills[pos],ms=5,mew=2,label='_nolegend_')\n",
    "        plt.plot(DailyfPARMeans.index,DailyfPARMeans.loc[:,(Zone,Irrig)],lines[pos],color=edges[pos],label=Zone+ ' ' +IrrLabs[pos],lw=2)\n",
    "plt.ylabel('Estimated fPAR (from NDVI)',fontsize=12)\n",
    "plt.xticks(rotation=45)\n",
    "plt.tick_params(labelsize=10)\n",
    "plt.ylim(0,1.1)\n",
    "plt.legend(loc=3,fontsize=10)\n",
    "NDVIGraph.savefig('K:\\\\CPDiary\\\\Data\\\\BaxtersMVI\\\\draft papers\\\\Submission versions\\\\resub\\RevisedBaxtersIrrigPaper\\\\Figure5.eps',dpi=400)"
   ]
  },
  {
   "cell_type": "markdown",
   "metadata": {},
   "source": [
    "## Calculate surface albedo"
   ]
  },
  {
   "cell_type": "code",
   "execution_count": null,
   "metadata": {},
   "outputs": [],
   "source": [
    "def EstAlbedo(FPAR,coeff):\n",
    "    _return = np.multiply(FPAR,coeff)\n",
    "    _return = np.exp(_return)\n",
    "    _return = np.multiply(_return,0.15)\n",
    "    return _return"
   ]
  },
  {
   "cell_type": "code",
   "execution_count": null,
   "metadata": {},
   "outputs": [],
   "source": [
    "Albedo = pd.DataFrame(index = DailyfPAR.index,columns=DailyfPAR.columns)\n",
    "for plot in Albedo.columns:\n",
    "    Albedo.loc[:,plot] = [EstAlbedo(DailyfPAR.loc[x,plot],0.55) for x in DailyfPAR.index]"
   ]
  },
  {
   "cell_type": "code",
   "execution_count": null,
   "metadata": {},
   "outputs": [],
   "source": [
    "AlbedoGraph = plt.figure(figsize=(10,10))\n",
    "Irrigs = ['STD', 'VRI',] \n",
    "fills = ['b','w','r','w','g','w']\n",
    "lines = ['-','--','-','--','-','--']\n",
    "Zones = ['High', 'Low', 'Mid']\n",
    "edges = ['b','b','r','r','g','g']\n",
    "Reps = [1.0, 2.0, 3.0, 4.0]\n",
    "pos = -1\n",
    "for Zone in Zones:\n",
    "    for Irrig in Irrigs:\n",
    "        pos+=1\n",
    "        plt.plot(Albedo.index,Albedo.loc[:,(Zone,Irrig)],lines[pos],color=edges[pos],label=Zone+Irrig,lw=4)\n",
    "plt.ylabel('Estimated Albedo (from NDVI)',fontsize=16)\n",
    "plt.xticks(rotation=45)\n",
    "plt.tick_params(labelsize=16)\n",
    "plt.ylim(0,0.35)\n",
    "#plt.legend(loc=2,fontsize=16)"
   ]
  },
  {
   "cell_type": "markdown",
   "metadata": {},
   "source": [
    "## export estimated fPAR for use in water use estimations"
   ]
  },
  {
   "cell_type": "code",
   "execution_count": null,
   "metadata": {},
   "outputs": [],
   "source": [
    "DailyfPAR.to_pickle('fPAR.pkl')\n",
    "Albedo.to_pickle('Albedo.pkl')"
   ]
  }
 ],
 "metadata": {
  "kernelspec": {
   "display_name": "Python 3",
   "language": "python",
   "name": "python3"
  },
  "language_info": {
   "codemirror_mode": {
    "name": "ipython",
    "version": 3
   },
   "file_extension": ".py",
   "mimetype": "text/x-python",
   "name": "python",
   "nbconvert_exporter": "python",
   "pygments_lexer": "ipython3",
   "version": "3.6.13"
  }
 },
 "nbformat": 4,
 "nbformat_minor": 4
}
